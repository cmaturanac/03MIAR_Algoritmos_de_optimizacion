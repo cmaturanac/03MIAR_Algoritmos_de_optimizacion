{
  "nbformat": 4,
  "nbformat_minor": 0,
  "metadata": {
    "colab": {
      "provenance": [],
      "include_colab_link": true
    },
    "kernelspec": {
      "name": "python3",
      "display_name": "Python 3"
    }
  },
  "cells": [
    {
      "cell_type": "markdown",
      "metadata": {
        "id": "view-in-github",
        "colab_type": "text"
      },
      "source": [
        "<a href=\"https://colab.research.google.com/github/cmaturanac/03MIAR_Algoritmos_de_optimizacion/blob/main/Trabajo_Pr%C3%A1ctico_Carlos_Maturana.ipynb\" target=\"_parent\"><img src=\"https://colab.research.google.com/assets/colab-badge.svg\" alt=\"Open In Colab\"/></a>"
      ]
    },
    {
      "cell_type": "markdown",
      "metadata": {
        "id": "hVbXYX-RfPWh"
      },
      "source": [
        "# Algoritmos de optimización - Trabajo Práctico<br>\n",
        "Nombre y Apellidos: Carlos Alejandro Maturana Cornejo<br>\n",
        "Url: https://github.com/.../03MAIR---Algoritmos-de-Optimizacion---/tree/master/TrabajoPractico<br>\n",
        "Google Colab: https://colab.research.google.com/drive/1YGRXvAuOfyXj9rN0G9zY-AdKXHemfnJ4?usp=sharing <br> <br>\n",
        "\n",
        "**Problema: Sesiones de doblaje** <br>\n",
        "Se precisa coordinar el doblaje de una película. Los actores del doblaje deben coincidir en las tomas en las que sus personajes aparecen juntos en las diferentes tomas. Los actores de doblaje cobran toda la misma cantidad por cada día que deben desplazarse hasta el estudio de grabación independientemente del número de tomas que se graben. No es posible grabar más de 6 tomas por día. El objetivo es planificar las sesiones por día de manera que el gasto por los\n",
        "servicios de los actores de doblaje sea el menor posible.\n",
        "\n",
        "Datos: https://docs.google.com/spreadsheets/d/1Ipn6IrbQP4ax8zOnivdBIw2lN0JISkJG4fXndYd27U0/edit#gid=0                                        "
      ]
    },
    {
      "cell_type": "markdown",
      "source": [
        "#Modelo\n",
        "- **¿Como represento el espacio de soluciones?** <br>\n",
        "\n",
        "Corresponde a una combinatoria sin repetición. Debo elegir por día las tomas para grabar. El primer día tengo debo elegir 6 tomas de 30, el segundo 6 tomas de 24 y así sucesivamente. <br> <br>\n",
        "\n",
        "- **¿Cual es la función objetivo?** <br>\n",
        "\n",
        "El objetivo es minimizar los costes totales de grabación\n",
        "\n",
        "f(x) = c * Σ(Σ(a_ij * x_ij))\n",
        "\n",
        "c: Coste diario de cada actor <br>\n",
        "a_ij: Número de actores necesarios para la toma i en el día j<br>\n",
        "x_ij: Variable binaria que indica si la toma i se realiza en el día j (1) o no (0). <br> <br>\n",
        "\n",
        "- **¿Como implemento las restricciones?** <br>\n",
        "\n",
        "Restricción 1: Cada toma se debe realizar solo una vez. <br>\n",
        "Σ(x_ij) = 1 para i = 1, 2, ..., n\n",
        "\n",
        "Restricción 2: El número de tomas por día no puede superar el máximo d.<br>\n",
        "Σ(x_ij) <= d"
      ],
      "metadata": {
        "id": "Sbo9IqQtpaHZ"
      }
    },
    {
      "cell_type": "markdown",
      "source": [],
      "metadata": {
        "id": "67p_vszBposu"
      }
    },
    {
      "cell_type": "markdown",
      "source": [
        "#Análisis\n",
        "- **¿Que complejidad tiene el problema?**. Orden de complejidad y Contabilizar el espacio de soluciones <br> <br>\n",
        "\n",
        "El problema tiene un orden de complejidad O(n!) <br>\n",
        "NP-Difícil"
      ],
      "metadata": {
        "id": "HZz52wOppp-U"
      }
    },
    {
      "cell_type": "code",
      "metadata": {
        "id": "AiskKkzZfy4e",
        "colab": {
          "base_uri": "https://localhost:8080/",
          "height": 0
        },
        "outputId": "43d09dca-2fd8-4cd8-809b-7fc08ca99b62"
      },
      "source": [
        "# Espacio de soluciones\n",
        "\n",
        "\n",
        "# 30 tomas a distribuir\n",
        "# 6 tomas tomas por día\n",
        "\n",
        "# Combinatoria sin repetición\n",
        "\n",
        "import math\n",
        "\n",
        "Dia1 = (math.factorial(30)) / ((math.factorial(6) * math.factorial(30 - 6)))    # Día 1 - Entre 30 tomas elijo 6\n",
        "Dia2 = (math.factorial(24)) / ((math.factorial(6) * math.factorial(24 - 6)))    # Día 2 - Entre 24 tomas elijo 6\n",
        "Dia3 = (math.factorial(18)) / ((math.factorial(6) * math.factorial(18 - 6)))    # Día 3 - Entre 18 tomas elijo 6\n",
        "Dia4 = (math.factorial(12)) / ((math.factorial(6) * math.factorial(12 - 6)))    # Día 4 - Entre 12 tomas elijo 6\n",
        "Dia5 = 1                                                                        # Día 5 - Entre 6 tomas elijo 6 (sólo una opción posible)\n",
        "\n",
        "N = Dia1 * Dia2 * Dia3 * Dia4 * Dia5\n",
        "\n",
        "print('El problema tiene ', N,'soluciones factibles \\n')\n",
        "print('Nota: Se considerna sólo 5 días para la distribución de tomas, ya que si se consideran más dias aumentarían los costes')"
      ],
      "execution_count": 58,
      "outputs": [
        {
          "output_type": "stream",
          "name": "stdout",
          "text": [
            "El problema tiene  1.3708741675893263e+18 soluciones factibles \n",
            "\n",
            "Nota: Se considerna sólo 5 días para la distribución de tomas, ya que si se consideran más dias aumentarían los costes\n"
          ]
        }
      ]
    },
    {
      "cell_type": "markdown",
      "source": [
        "#Diseño\n",
        "- **¿Que técnica utilizo? ¿Por qué?**\n",
        "\n",
        "Utilicé un algoritmo genético. Dada la complejidad del problema, no se puede abarcar con otras técnicas asociadas a algoritmos exactos. Esto es, debido a la alta complejidad del problema y el amplio espacion de solución."
      ],
      "metadata": {
        "id": "ixEJUwH_pv7M"
      }
    },
    {
      "cell_type": "markdown",
      "source": [],
      "metadata": {
        "id": "vTMPWAiRK138"
      }
    },
    {
      "cell_type": "code",
      "source": [
        "# Imports\n",
        "import random\n",
        "import pandas as pd\n",
        "import numpy as np"
      ],
      "metadata": {
        "id": "EgOSb7bOUWZF"
      },
      "execution_count": 59,
      "outputs": []
    },
    {
      "cell_type": "code",
      "source": [
        "# Datos\n",
        "tomas_y_actores = {\n",
        "     'Toma1' : [1, 1, 1, 1, 1, 0, 0, 0, 0, 0],\n",
        "     'Toma2' : [0, 0, 1, 1, 1, 0, 0, 0, 0, 0],\n",
        "     'Toma3' : [0, 1, 0, 0, 1, 0, 1, 0, 0, 0],\n",
        "     'Toma4' : [1, 1, 0, 0, 0, 0, 1, 1, 0, 0],\n",
        "     'Toma5' : [0, 1, 0, 1, 0, 0, 0, 1, 0, 0],\n",
        "     'Toma6' : [1, 1, 0, 1, 1, 0, 0, 0, 0, 0],\n",
        "     'Toma7' : [1, 1, 0, 1, 1, 0, 0, 0, 0, 0],\n",
        "     'Toma8' : [1, 1, 0, 0, 0, 1, 0, 0, 0, 0],\n",
        "     'Toma9' : [1, 1, 0, 1, 0, 0, 0, 0, 0, 0],\n",
        "     'Toma10' : [1, 1, 0, 0, 0, 1, 0, 0, 1, 0],\n",
        "     'Toma11' : [1, 1, 1, 0, 1, 0, 0, 1, 0, 0],\n",
        "     'Toma12' : [1, 1, 1, 1, 0, 1, 0, 0, 0, 0],\n",
        "     'Toma13' : [1, 0, 0, 1, 1, 0, 0, 0, 0, 0],\n",
        "     'Toma14' : [1, 0, 1, 0, 0, 1, 0, 0, 0, 0],\n",
        "     'Toma15' : [1, 1, 0, 0, 0, 0, 1, 0, 0, 0],\n",
        "     'Toma16' : [0, 0, 0, 1, 0, 0, 0, 0, 0, 1],\n",
        "     'Toma17' : [1, 0, 1, 0, 0, 0, 0, 0, 0, 0],\n",
        "     'Toma18' : [0, 0, 1, 0, 0, 1, 0, 0, 0, 0],\n",
        "     'Toma19' : [1, 0, 1, 0, 0, 0, 0, 0, 0, 0],\n",
        "     'Toma20' : [1, 0, 1, 1, 1, 0, 0, 0, 0, 0],\n",
        "     'Toma21' : [0, 0, 0, 0, 0, 1, 0, 1, 0, 0],\n",
        "     'Toma22' : [1, 1, 1, 1, 0, 0, 0, 0, 0, 0],\n",
        "     'Toma23' : [1, 0, 1, 0, 0, 0, 0, 0, 0, 0],\n",
        "     'Toma24' : [0, 0, 1, 0, 0, 1, 0, 0, 0, 0],\n",
        "     'Toma25' : [1, 1, 0, 1, 0, 0, 0, 0, 0, 1],\n",
        "     'Toma26' : [1, 0, 1, 0, 1, 0, 0, 0, 1, 0],\n",
        "     'Toma27' : [0, 0, 0, 1, 1, 0, 0, 0, 0, 0],\n",
        "     'Toma28' : [1, 0, 0, 1, 0, 0, 0, 0, 0, 0],\n",
        "     'Toma29' : [1, 0, 0, 0, 1, 1, 0, 0, 0, 0],\n",
        "     'Toma30' : [1, 0, 0, 1, 0, 0, 0, 0, 0, 0]}\n",
        "\n",
        "# Conversión a pandas df\n",
        "df = pd.DataFrame.from_dict(tomas_y_actores, orient='index', columns=[f'Actor{i}' for i in range(1, 11)])\n",
        "\n",
        "# Número máximo de tomas por día\n",
        "max_tomas_por_dia = 6\n",
        "\n",
        "# Calcular el número de días requeridos\n",
        "num_dias = len(tomas_y_actores) // max_tomas_por_dia\n",
        "if len(tomas_y_actores) % max_tomas_por_dia != 0:\n",
        "    num_dias += 1"
      ],
      "metadata": {
        "id": "YKyAmOIcTXSi"
      },
      "execution_count": 60,
      "outputs": []
    },
    {
      "cell_type": "code",
      "source": [
        "# Función de evaluación (fitness)\n",
        "def evaluar_solucion(solucion):\n",
        "    costo_total = 0\n",
        "    for i, df_grupo in enumerate(solucion):\n",
        "        costo_grupo = (np.sum(df_grupo, axis=0) != 0).astype(int)  # Si la suma por columna es diferente de 0, se asigna 1, de lo contrario, 0\n",
        "        costo_grupo_total = costo_grupo.sum()  # Suma costes por día\n",
        "        costo_total += costo_grupo_total  # Suma para coste total\n",
        "    return costo_total\n",
        "\n",
        "# Función de inicialización de la población\n",
        "def generar_individuo(df):\n",
        "    # Seleccionar todos los índices una sola vez\n",
        "    indices_aleatorios = np.random.permutation(df.index)\n",
        "\n",
        "    # Dividir los índices en grupos según el número máximo de tomas por día\n",
        "    grupos_indices = [indices_aleatorios[i:i + max_tomas_por_dia] for i in range(0, len(indices_aleatorios), max_tomas_por_dia)]\n",
        "\n",
        "    # Crear los DataFrames con las filas correspondientes\n",
        "    individuo = [df.loc[indices] for indices in grupos_indices]\n",
        "    return individuo\n",
        "\n",
        "def generar_poblacion(df, num_individuos):\n",
        "    poblacion = []\n",
        "    for _ in range(num_individuos):\n",
        "        individuo = generar_individuo(df)\n",
        "        poblacion.append(individuo)\n",
        "    return poblacion\n",
        "\n",
        "# Función de selección de padres (selección de torneo)\n",
        "def seleccionar_padres(poblacion, fitness, num_padres):\n",
        "    padres = []\n",
        "    for _ in range(num_padres):\n",
        "        torneo = random.sample(list(enumerate(poblacion)), 3)\n",
        "        ganador = min(torneo, key=lambda x: fitness[x[0]])\n",
        "        padres.append(ganador[1])\n",
        "    return padres\n",
        "\n",
        "def crossover(padres):\n",
        "    # Punto de cruce aleatorio dentro del rango de días\n",
        "    punto_cruce = random.randint(1, len(padres[0]) - 2)\n",
        "\n",
        "    # Inicializar el hijo combinando partes de los dos padres\n",
        "    hijo = padres[0][:punto_cruce] + padres[1][punto_cruce:]\n",
        "\n",
        "    # Crear un conjunto para almacenar las tomas ya asignadas\n",
        "    tomas_asignadas = set()\n",
        "    for grupo in hijo:\n",
        "        tomas_asignadas.update(grupo.index)\n",
        "\n",
        "    # Revisar cada grupo en el hijo para asegurar que no haya tomas repetidas\n",
        "    for i, grupo in enumerate(hijo):\n",
        "        tomas_en_grupo = set(grupo.index)\n",
        "\n",
        "        # Detectar y reemplazar tomas duplicadas\n",
        "        for toma in tomas_en_grupo:\n",
        "            if list(tomas_asignadas).count(toma) > 1:\n",
        "                tomas_asignadas.remove(toma)  # Eliminar la toma duplicada del conjunto\n",
        "                toma_nueva = (set(df.index) - tomas_asignadas).pop()  # Seleccionar una toma no asignada\n",
        "                hijo[i] = grupo.drop(toma).append(df.loc[toma_nueva])  # Reemplazar la toma duplicada\n",
        "                tomas_asignadas.add(toma_nueva)  # Agregar la nueva toma al conjunto de asignadas\n",
        "\n",
        "    return hijo\n",
        "\n",
        "# Función de mutación\n",
        "def mutacion(individuo, prob_mutacion):\n",
        "    for i in range(len(individuo)):\n",
        "        if random.random() < prob_mutacion:\n",
        "\n",
        "          # Seleccionar índices aleatorios sin reemplazo\n",
        "          indices_aleatorios = np.random.choice(df.index, size=30, replace=False)\n",
        "\n",
        "          # Dividir los índices en 5 grupos de 6 filas cada uno\n",
        "          grupos_indices = [indices_aleatorios[i:i + 6] for i in range(0, len(indices_aleatorios), 6)]\n",
        "\n",
        "          # Crear los 5 DataFrames con las filas correspondientes\n",
        "          individuo = [df.loc[indices] for indices in grupos_indices]\n",
        "    return individuo\n",
        "\n",
        "# Algoritmo genético\n",
        "def algoritmo_genetico(num_generaciones, tam_poblacion, prob_mutacion):\n",
        "    poblacion = generar_poblacion(df, tam_poblacion)\n",
        "    for _ in range(num_generaciones):\n",
        "        fitness = [evaluar_solucion(individuo) for individuo in poblacion]\n",
        "        nueva_poblacion = []\n",
        "        for _ in range(tam_poblacion // 2):\n",
        "            padres = seleccionar_padres(poblacion, fitness, 2)\n",
        "            hijo1 = crossover(padres)\n",
        "            hijo2 = crossover(padres[::-1])\n",
        "            hijo1 = mutacion(hijo1, prob_mutacion)\n",
        "            hijo2 = mutacion(hijo2, prob_mutacion)\n",
        "            nueva_poblacion.extend([hijo1, hijo2])\n",
        "        poblacion = nueva_poblacion\n",
        "    fitness = [evaluar_solucion(individuo) for individuo in poblacion]\n",
        "    mejor_individuo = poblacion[fitness.index(min(fitness))]\n",
        "    return mejor_individuo, min(fitness)\n",
        "\n",
        "# Ejecutar el algoritmo genético\n",
        "num_generaciones = 100\n",
        "tam_poblacion = 100\n",
        "prob_mutacion = 0.1\n",
        "solucion, costo = algoritmo_genetico(num_generaciones, tam_poblacion, prob_mutacion)\n",
        "\n",
        "# Mostrar la solución\n",
        "for i, df_grupo in enumerate(solucion):\n",
        "    print(f\"Día {i+1}:\")\n",
        "    display(df_grupo.index)\n",
        "    print()\n",
        "\n",
        "print(\"Costo total:\", costo)"
      ],
      "metadata": {
        "colab": {
          "base_uri": "https://localhost:8080/",
          "height": 295
        },
        "id": "zau3rNwzUfXs",
        "outputId": "e42f5eb2-7569-4531-da8b-d91475e7a89a"
      },
      "execution_count": 71,
      "outputs": [
        {
          "output_type": "stream",
          "name": "stdout",
          "text": [
            "Día 1:\n"
          ]
        },
        {
          "output_type": "display_data",
          "data": {
            "text/plain": [
              "Index(['Toma27', 'Toma30', 'Toma28', 'Toma29', 'Toma14', 'Toma23'], dtype='object')"
            ]
          },
          "metadata": {}
        },
        {
          "output_type": "stream",
          "name": "stdout",
          "text": [
            "\n",
            "Día 2:\n"
          ]
        },
        {
          "output_type": "display_data",
          "data": {
            "text/plain": [
              "Index(['Toma9', 'Toma27', 'Toma23', 'Toma2', 'Toma28', 'Toma17'], dtype='object')"
            ]
          },
          "metadata": {}
        },
        {
          "output_type": "stream",
          "name": "stdout",
          "text": [
            "\n",
            "Día 3:\n"
          ]
        },
        {
          "output_type": "display_data",
          "data": {
            "text/plain": [
              "Index(['Toma15', 'Toma3', 'Toma17', 'Toma1', 'Toma22', 'Toma7'], dtype='object')"
            ]
          },
          "metadata": {}
        },
        {
          "output_type": "stream",
          "name": "stdout",
          "text": [
            "\n",
            "Día 4:\n"
          ]
        },
        {
          "output_type": "display_data",
          "data": {
            "text/plain": [
              "Index(['Toma19', 'Toma30', 'Toma20', 'Toma13', 'Toma18', 'Toma26'], dtype='object')"
            ]
          },
          "metadata": {}
        },
        {
          "output_type": "stream",
          "name": "stdout",
          "text": [
            "\n",
            "Día 5:\n"
          ]
        },
        {
          "output_type": "display_data",
          "data": {
            "text/plain": [
              "Index(['Toma23', 'Toma6', 'Toma12', 'Toma9', 'Toma17', 'Toma14'], dtype='object')"
            ]
          },
          "metadata": {}
        },
        {
          "output_type": "stream",
          "name": "stdout",
          "text": [
            "\n",
            "Costo total: 28\n"
          ]
        }
      ]
    },
    {
      "cell_type": "code",
      "source": [
        "#################################################################\n",
        "# Ejemplo de funcionamiento de la función de fitness\n",
        "\n",
        "ejemplo = dataframes\n",
        "\n",
        "display(ejemplo)\n",
        "\n",
        "# Función de evaluación (fitness)\n",
        "def calcular_costo_total(dataframes):\n",
        "    costo_total = 0\n",
        "    for i, df_grupo in enumerate(dataframes):\n",
        "        costo_grupo = (df_grupo.sum(axis=0) > 0).astype(int)\n",
        "        costo_grupo_total = costo_grupo.sum()\n",
        "        costo_total += costo_grupo_total\n",
        "        print(f\"Día {i+1}:\")\n",
        "        print(\"Costo del grupo:\")\n",
        "        display(costo_grupo)\n",
        "        print(\"Costo total del día:\", costo_grupo_total)\n",
        "        print()\n",
        "    print(\"Costo total de los días:\", costo_total)\n",
        "\n",
        "calcular_costo_total(ejemplo)"
      ],
      "metadata": {
        "colab": {
          "base_uri": "https://localhost:8080/",
          "height": 2638
        },
        "id": "hZMantghUdRl",
        "outputId": "9e978173-9c2d-4252-935a-e05cc677c371"
      },
      "execution_count": 56,
      "outputs": [
        {
          "output_type": "display_data",
          "data": {
            "text/plain": [
              "[        Actor1  Actor2  Actor3  Actor4  Actor5  Actor6  Actor7  Actor8  \\\n",
              " Toma15       1       1       0       0       0       0       1       0   \n",
              " Toma20       1       0       1       1       1       0       0       0   \n",
              " Toma3        0       1       0       0       1       0       1       0   \n",
              " Toma9        1       1       0       1       0       0       0       0   \n",
              " Toma21       0       0       0       0       0       1       0       1   \n",
              " Toma25       1       1       0       1       0       0       0       0   \n",
              " \n",
              "         Actor9  Actor10  \n",
              " Toma15       0        0  \n",
              " Toma20       0        0  \n",
              " Toma3        0        0  \n",
              " Toma9        0        0  \n",
              " Toma21       0        0  \n",
              " Toma25       0        1  ,\n",
              "         Actor1  Actor2  Actor3  Actor4  Actor5  Actor6  Actor7  Actor8  \\\n",
              " Toma4        1       1       0       0       0       0       1       1   \n",
              " Toma30       1       0       0       1       0       0       0       0   \n",
              " Toma22       1       1       1       1       0       0       0       0   \n",
              " Toma23       1       0       1       0       0       0       0       0   \n",
              " Toma28       1       0       0       1       0       0       0       0   \n",
              " Toma17       1       0       1       0       0       0       0       0   \n",
              " \n",
              "         Actor9  Actor10  \n",
              " Toma4        0        0  \n",
              " Toma30       0        0  \n",
              " Toma22       0        0  \n",
              " Toma23       0        0  \n",
              " Toma28       0        0  \n",
              " Toma17       0        0  ,\n",
              "         Actor1  Actor2  Actor3  Actor4  Actor5  Actor6  Actor7  Actor8  \\\n",
              " Toma16       0       0       0       1       0       0       0       0   \n",
              " Toma12       1       1       1       1       0       1       0       0   \n",
              " Toma2        0       0       1       1       1       0       0       0   \n",
              " Toma1        1       1       1       1       1       0       0       0   \n",
              " Toma27       0       0       0       1       1       0       0       0   \n",
              " Toma24       0       0       1       0       0       1       0       0   \n",
              " \n",
              "         Actor9  Actor10  \n",
              " Toma16       0        1  \n",
              " Toma12       0        0  \n",
              " Toma2        0        0  \n",
              " Toma1        0        0  \n",
              " Toma27       0        0  \n",
              " Toma24       0        0  ,\n",
              "         Actor1  Actor2  Actor3  Actor4  Actor5  Actor6  Actor7  Actor8  \\\n",
              " Toma14       1       0       1       0       0       1       0       0   \n",
              " Toma6        1       1       0       1       1       0       0       0   \n",
              " Toma8        1       1       0       0       0       1       0       0   \n",
              " Toma26       1       0       1       0       1       0       0       0   \n",
              " Toma10       1       1       0       0       0       1       0       0   \n",
              " Toma13       1       0       0       1       1       0       0       0   \n",
              " \n",
              "         Actor9  Actor10  \n",
              " Toma14       0        0  \n",
              " Toma6        0        0  \n",
              " Toma8        0        0  \n",
              " Toma26       1        0  \n",
              " Toma10       1        0  \n",
              " Toma13       0        0  ,\n",
              "         Actor1  Actor2  Actor3  Actor4  Actor5  Actor6  Actor7  Actor8  \\\n",
              " Toma18       0       0       1       0       0       1       0       0   \n",
              " Toma7        1       1       0       1       1       0       0       0   \n",
              " Toma29       1       0       0       0       1       1       0       0   \n",
              " Toma11       1       1       1       0       1       0       0       1   \n",
              " Toma19       1       0       1       0       0       0       0       0   \n",
              " Toma5        0       1       0       1       0       0       0       1   \n",
              " \n",
              "         Actor9  Actor10  \n",
              " Toma18       0        0  \n",
              " Toma7        0        0  \n",
              " Toma29       0        0  \n",
              " Toma11       0        0  \n",
              " Toma19       0        0  \n",
              " Toma5        0        0  ]"
            ]
          },
          "metadata": {}
        },
        {
          "output_type": "stream",
          "name": "stdout",
          "text": [
            "Día 1:\n",
            "Costo del grupo:\n"
          ]
        },
        {
          "output_type": "display_data",
          "data": {
            "text/plain": [
              "Actor1     1\n",
              "Actor2     1\n",
              "Actor3     1\n",
              "Actor4     1\n",
              "Actor5     1\n",
              "Actor6     1\n",
              "Actor7     1\n",
              "Actor8     1\n",
              "Actor9     0\n",
              "Actor10    1\n",
              "dtype: int64"
            ]
          },
          "metadata": {}
        },
        {
          "output_type": "stream",
          "name": "stdout",
          "text": [
            "Costo total del día: 9\n",
            "\n",
            "Día 2:\n",
            "Costo del grupo:\n"
          ]
        },
        {
          "output_type": "display_data",
          "data": {
            "text/plain": [
              "Actor1     1\n",
              "Actor2     1\n",
              "Actor3     1\n",
              "Actor4     1\n",
              "Actor5     0\n",
              "Actor6     0\n",
              "Actor7     1\n",
              "Actor8     1\n",
              "Actor9     0\n",
              "Actor10    0\n",
              "dtype: int64"
            ]
          },
          "metadata": {}
        },
        {
          "output_type": "stream",
          "name": "stdout",
          "text": [
            "Costo total del día: 6\n",
            "\n",
            "Día 3:\n",
            "Costo del grupo:\n"
          ]
        },
        {
          "output_type": "display_data",
          "data": {
            "text/plain": [
              "Actor1     1\n",
              "Actor2     1\n",
              "Actor3     1\n",
              "Actor4     1\n",
              "Actor5     1\n",
              "Actor6     1\n",
              "Actor7     0\n",
              "Actor8     0\n",
              "Actor9     0\n",
              "Actor10    1\n",
              "dtype: int64"
            ]
          },
          "metadata": {}
        },
        {
          "output_type": "stream",
          "name": "stdout",
          "text": [
            "Costo total del día: 7\n",
            "\n",
            "Día 4:\n",
            "Costo del grupo:\n"
          ]
        },
        {
          "output_type": "display_data",
          "data": {
            "text/plain": [
              "Actor1     1\n",
              "Actor2     1\n",
              "Actor3     1\n",
              "Actor4     1\n",
              "Actor5     1\n",
              "Actor6     1\n",
              "Actor7     0\n",
              "Actor8     0\n",
              "Actor9     1\n",
              "Actor10    0\n",
              "dtype: int64"
            ]
          },
          "metadata": {}
        },
        {
          "output_type": "stream",
          "name": "stdout",
          "text": [
            "Costo total del día: 7\n",
            "\n",
            "Día 5:\n",
            "Costo del grupo:\n"
          ]
        },
        {
          "output_type": "display_data",
          "data": {
            "text/plain": [
              "Actor1     1\n",
              "Actor2     1\n",
              "Actor3     1\n",
              "Actor4     1\n",
              "Actor5     1\n",
              "Actor6     1\n",
              "Actor7     0\n",
              "Actor8     1\n",
              "Actor9     0\n",
              "Actor10    0\n",
              "dtype: int64"
            ]
          },
          "metadata": {}
        },
        {
          "output_type": "stream",
          "name": "stdout",
          "text": [
            "Costo total del día: 7\n",
            "\n",
            "Costo total de los días: 36\n"
          ]
        }
      ]
    },
    {
      "cell_type": "code",
      "source": [
        "################################################################################################\n",
        "# Ejemplo de funcionamiento de la función de generacíon de individuo\n",
        "\n",
        "def generar_individuo(df):\n",
        "    # Seleccionar índices aleatorios sin reemplazo\n",
        "    indices_aleatorios = np.random.choice(df.index, size=30, replace=False)\n",
        "\n",
        "    # Dividir los índices en 5 grupos de 6 filas cada uno\n",
        "    grupos_indices = [indices_aleatorios[i:i + 6] for i in range(0, len(indices_aleatorios), 6)]\n",
        "\n",
        "    # Crear los 5 DataFrames con las filas correspondientes\n",
        "    individuo = [df.loc[indices] for indices in grupos_indices]\n",
        "    return individuo\n",
        "\n",
        "generar_individuo(df)"
      ],
      "metadata": {
        "colab": {
          "base_uri": "https://localhost:8080/",
          "height": 0
        },
        "id": "I9CPgwPmq0tp",
        "outputId": "c65798e7-02ef-4177-de35-184908a004c7"
      },
      "execution_count": 57,
      "outputs": [
        {
          "output_type": "execute_result",
          "data": {
            "text/plain": [
              "[        Actor1  Actor2  Actor3  Actor4  Actor5  Actor6  Actor7  Actor8  \\\n",
              " Toma3        0       1       0       0       1       0       1       0   \n",
              " Toma11       1       1       1       0       1       0       0       1   \n",
              " Toma4        1       1       0       0       0       0       1       1   \n",
              " Toma23       1       0       1       0       0       0       0       0   \n",
              " Toma8        1       1       0       0       0       1       0       0   \n",
              " Toma26       1       0       1       0       1       0       0       0   \n",
              " \n",
              "         Actor9  Actor10  \n",
              " Toma3        0        0  \n",
              " Toma11       0        0  \n",
              " Toma4        0        0  \n",
              " Toma23       0        0  \n",
              " Toma8        0        0  \n",
              " Toma26       1        0  ,\n",
              "         Actor1  Actor2  Actor3  Actor4  Actor5  Actor6  Actor7  Actor8  \\\n",
              " Toma10       1       1       0       0       0       1       0       0   \n",
              " Toma15       1       1       0       0       0       0       1       0   \n",
              " Toma29       1       0       0       0       1       1       0       0   \n",
              " Toma24       0       0       1       0       0       1       0       0   \n",
              " Toma1        1       1       1       1       1       0       0       0   \n",
              " Toma30       1       0       0       1       0       0       0       0   \n",
              " \n",
              "         Actor9  Actor10  \n",
              " Toma10       1        0  \n",
              " Toma15       0        0  \n",
              " Toma29       0        0  \n",
              " Toma24       0        0  \n",
              " Toma1        0        0  \n",
              " Toma30       0        0  ,\n",
              "         Actor1  Actor2  Actor3  Actor4  Actor5  Actor6  Actor7  Actor8  \\\n",
              " Toma25       1       1       0       1       0       0       0       0   \n",
              " Toma5        0       1       0       1       0       0       0       1   \n",
              " Toma21       0       0       0       0       0       1       0       1   \n",
              " Toma12       1       1       1       1       0       1       0       0   \n",
              " Toma13       1       0       0       1       1       0       0       0   \n",
              " Toma19       1       0       1       0       0       0       0       0   \n",
              " \n",
              "         Actor9  Actor10  \n",
              " Toma25       0        1  \n",
              " Toma5        0        0  \n",
              " Toma21       0        0  \n",
              " Toma12       0        0  \n",
              " Toma13       0        0  \n",
              " Toma19       0        0  ,\n",
              "         Actor1  Actor2  Actor3  Actor4  Actor5  Actor6  Actor7  Actor8  \\\n",
              " Toma22       1       1       1       1       0       0       0       0   \n",
              " Toma16       0       0       0       1       0       0       0       0   \n",
              " Toma17       1       0       1       0       0       0       0       0   \n",
              " Toma14       1       0       1       0       0       1       0       0   \n",
              " Toma28       1       0       0       1       0       0       0       0   \n",
              " Toma6        1       1       0       1       1       0       0       0   \n",
              " \n",
              "         Actor9  Actor10  \n",
              " Toma22       0        0  \n",
              " Toma16       0        1  \n",
              " Toma17       0        0  \n",
              " Toma14       0        0  \n",
              " Toma28       0        0  \n",
              " Toma6        0        0  ,\n",
              "         Actor1  Actor2  Actor3  Actor4  Actor5  Actor6  Actor7  Actor8  \\\n",
              " Toma27       0       0       0       1       1       0       0       0   \n",
              " Toma20       1       0       1       1       1       0       0       0   \n",
              " Toma2        0       0       1       1       1       0       0       0   \n",
              " Toma9        1       1       0       1       0       0       0       0   \n",
              " Toma18       0       0       1       0       0       1       0       0   \n",
              " Toma7        1       1       0       1       1       0       0       0   \n",
              " \n",
              "         Actor9  Actor10  \n",
              " Toma27       0        0  \n",
              " Toma20       0        0  \n",
              " Toma2        0        0  \n",
              " Toma9        0        0  \n",
              " Toma18       0        0  \n",
              " Toma7        0        0  ]"
            ]
          },
          "metadata": {},
          "execution_count": 57
        }
      ]
    },
    {
      "cell_type": "code",
      "source": [
        "##################################################################################################################\n",
        "# Ejemplo de funcionamiento de la función de mutación\n",
        "\n",
        "test = generar_individuo(df)\n",
        "\n",
        "def mutacion(individuo, prob_mutacion):\n",
        "    for i in range(len(individuo)):\n",
        "        if random.random() < prob_mutacion:\n",
        "          # Seleccionar índices aleatorios sin reemplazo\n",
        "          indices_aleatorios = np.random.choice(df.index, size=30, replace=False)\n",
        "\n",
        "          # Dividir los índices en 5 grupos de 6 filas cada uno\n",
        "          grupos_indices = [indices_aleatorios[i:i + 6] for i in range(0, len(indices_aleatorios), 6)]\n",
        "\n",
        "          # Crear los 5 DataFrames con las filas correspondientes\n",
        "          individuo = [df.loc[indices] for indices in grupos_indices]\n",
        "    return individuo\n",
        "\n",
        "\n",
        "mutacion(test, 0.1)"
      ],
      "metadata": {
        "colab": {
          "base_uri": "https://localhost:8080/",
          "height": 0
        },
        "id": "aVOnbEBXHii_",
        "outputId": "39e929bc-2dea-43e6-ac2b-22f4dad652db"
      },
      "execution_count": 32,
      "outputs": [
        {
          "output_type": "execute_result",
          "data": {
            "text/plain": [
              "[        Actor1  Actor2  Actor3  Actor4  Actor5  Actor6  Actor7  Actor8  \\\n",
              " Toma29       1       0       0       0       1       1       0       0   \n",
              " Toma16       0       0       0       1       0       0       0       0   \n",
              " Toma11       1       1       1       0       1       0       0       1   \n",
              " Toma9        1       1       0       1       0       0       0       0   \n",
              " Toma4        1       1       0       0       0       0       1       1   \n",
              " Toma5        0       1       0       1       0       0       0       1   \n",
              " \n",
              "         Actor9  Actor10  \n",
              " Toma29       0        0  \n",
              " Toma16       0        1  \n",
              " Toma11       0        0  \n",
              " Toma9        0        0  \n",
              " Toma4        0        0  \n",
              " Toma5        0        0  ,\n",
              "         Actor1  Actor2  Actor3  Actor4  Actor5  Actor6  Actor7  Actor8  \\\n",
              " Toma25       1       1       0       1       0       0       0       0   \n",
              " Toma19       1       0       1       0       0       0       0       0   \n",
              " Toma28       1       0       0       1       0       0       0       0   \n",
              " Toma12       1       1       1       1       0       1       0       0   \n",
              " Toma24       0       0       1       0       0       1       0       0   \n",
              " Toma6        1       1       0       1       1       0       0       0   \n",
              " \n",
              "         Actor9  Actor10  \n",
              " Toma25       0        1  \n",
              " Toma19       0        0  \n",
              " Toma28       0        0  \n",
              " Toma12       0        0  \n",
              " Toma24       0        0  \n",
              " Toma6        0        0  ,\n",
              "         Actor1  Actor2  Actor3  Actor4  Actor5  Actor6  Actor7  Actor8  \\\n",
              " Toma3        0       1       0       0       1       0       1       0   \n",
              " Toma14       1       0       1       0       0       1       0       0   \n",
              " Toma7        1       1       0       1       1       0       0       0   \n",
              " Toma10       1       1       0       0       0       1       0       0   \n",
              " Toma1        1       1       1       1       1       0       0       0   \n",
              " Toma8        1       1       0       0       0       1       0       0   \n",
              " \n",
              "         Actor9  Actor10  \n",
              " Toma3        0        0  \n",
              " Toma14       0        0  \n",
              " Toma7        0        0  \n",
              " Toma10       1        0  \n",
              " Toma1        0        0  \n",
              " Toma8        0        0  ,\n",
              "         Actor1  Actor2  Actor3  Actor4  Actor5  Actor6  Actor7  Actor8  \\\n",
              " Toma13       1       0       0       1       1       0       0       0   \n",
              " Toma22       1       1       1       1       0       0       0       0   \n",
              " Toma2        0       0       1       1       1       0       0       0   \n",
              " Toma23       1       0       1       0       0       0       0       0   \n",
              " Toma15       1       1       0       0       0       0       1       0   \n",
              " Toma17       1       0       1       0       0       0       0       0   \n",
              " \n",
              "         Actor9  Actor10  \n",
              " Toma13       0        0  \n",
              " Toma22       0        0  \n",
              " Toma2        0        0  \n",
              " Toma23       0        0  \n",
              " Toma15       0        0  \n",
              " Toma17       0        0  ,\n",
              "         Actor1  Actor2  Actor3  Actor4  Actor5  Actor6  Actor7  Actor8  \\\n",
              " Toma27       0       0       0       1       1       0       0       0   \n",
              " Toma21       0       0       0       0       0       1       0       1   \n",
              " Toma30       1       0       0       1       0       0       0       0   \n",
              " Toma26       1       0       1       0       1       0       0       0   \n",
              " Toma18       0       0       1       0       0       1       0       0   \n",
              " Toma20       1       0       1       1       1       0       0       0   \n",
              " \n",
              "         Actor9  Actor10  \n",
              " Toma27       0        0  \n",
              " Toma21       0        0  \n",
              " Toma30       0        0  \n",
              " Toma26       1        0  \n",
              " Toma18       0        0  \n",
              " Toma20       0        0  ]"
            ]
          },
          "metadata": {},
          "execution_count": 32
        }
      ]
    }
  ]
}